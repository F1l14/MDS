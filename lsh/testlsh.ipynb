{
 "cells": [
  {
   "cell_type": "code",
   "execution_count": 12,
   "id": "9759e395-78ee-4912-b0dd-83d2767e5180",
   "metadata": {},
   "outputs": [
    {
     "name": "stdout",
     "output_type": "stream",
     "text": [
      "Similar Records:\n",
      "Record 604 and Record 681\n",
      "\n",
      "Time taken for the entire process: 108.17 seconds\n"
     ]
    }
   ],
   "source": [
    "run lsh/testlsh.py"
   ]
  },
  {
   "cell_type": "code",
   "execution_count": null,
   "id": "5daa9eba-3421-47d2-a4da-cb77d5694df5",
   "metadata": {},
   "outputs": [],
   "source": []
  }
 ],
 "metadata": {
  "kernelspec": {
   "display_name": "Python 3 (ipykernel)",
   "language": "python",
   "name": "python3"
  },
  "language_info": {
   "codemirror_mode": {
    "name": "ipython",
    "version": 3
   },
   "file_extension": ".py",
   "mimetype": "text/x-python",
   "name": "python",
   "nbconvert_exporter": "python",
   "pygments_lexer": "ipython3",
   "version": "3.9.6"
  }
 },
 "nbformat": 4,
 "nbformat_minor": 5
}
